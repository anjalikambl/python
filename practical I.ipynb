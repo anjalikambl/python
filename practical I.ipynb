{
 "cells": [
  {
   "cell_type": "markdown",
   "id": "a25413e4",
   "metadata": {},
   "source": [
    "# Practical-I"
   ]
  },
  {
   "cell_type": "markdown",
   "id": "cdfdccc2",
   "metadata": {},
   "source": [
    "a.\tAccept a number and print whether it is even or odd"
   ]
  },
  {
   "cell_type": "code",
   "execution_count": 57,
   "id": "7c2abb40",
   "metadata": {},
   "outputs": [
    {
     "name": "stdout",
     "output_type": "stream",
     "text": [
      "Enter a number:4\n",
      "4 is even\n"
     ]
    }
   ],
   "source": [
    "n=int(input('Enter a number:'))\n",
    "if n%2==0:\n",
    "    print(n,'is even')\n",
    "else:\n",
    "    print(n,'is odd')"
   ]
  },
  {
   "cell_type": "markdown",
   "id": "cd8d245b",
   "metadata": {},
   "source": [
    "b.\tAccept n numbers and print their mean and variance"
   ]
  },
  {
   "cell_type": "code",
   "execution_count": 25,
   "id": "f6d23f29",
   "metadata": {},
   "outputs": [
    {
     "name": "stdout",
     "output_type": "stream",
     "text": [
      "enter a size of list:3\n",
      "enter n numbers:4\n",
      "enter n numbers:6\n",
      "enter n numbers:3\n",
      "['4', '6', '3']\n",
      "4.33 is the mean of given list and 1.556 is the variance of given list\n"
     ]
    }
   ],
   "source": [
    "n=int(input('enter a size of list:'))\n",
    "num=[]\n",
    "for i in range(n):\n",
    "    y=input('enter n numbers:')\n",
    "    num.append(y)\n",
    "print(num)\n",
    "sx=sxx=0\n",
    "t=0\n",
    "for i in num:\n",
    "    sx=sx+int(i)\n",
    "    sxx=sxx+int(i)*int(i)\n",
    "    t=t+1\n",
    "mean=sx/t\n",
    "var=sxx/t-mean**2\n",
    "print(round(mean,2),'is the mean of given list and',round(var,3),'is the variance of given list')\n"
   ]
  },
  {
   "cell_type": "markdown",
   "id": "3fcf19f9",
   "metadata": {},
   "source": [
    "\tc.Accept a number and print its factorial"
   ]
  },
  {
   "cell_type": "code",
   "execution_count": 28,
   "id": "360d4d44",
   "metadata": {},
   "outputs": [
    {
     "name": "stdout",
     "output_type": "stream",
     "text": [
      "Enter a number:5\n",
      "120\n"
     ]
    }
   ],
   "source": [
    "n=int(input('Enter a number:'))\n",
    "f=1\n",
    "for i in range(1,n+1):\n",
    "    f=f*i\n",
    "print(f)"
   ]
  },
  {
   "cell_type": "markdown",
   "id": "8e76fbaa",
   "metadata": {},
   "source": [
    "d.\tAccept a number and print whether it is prime of not. Extend the programme to list down the prime number between 1 and 100 and compute mean of the same."
   ]
  },
  {
   "cell_type": "code",
   "execution_count": 45,
   "id": "fc26f9a5",
   "metadata": {},
   "outputs": [
    {
     "name": "stdout",
     "output_type": "stream",
     "text": [
      "2 3 5 7 11 13 17 19 23 29 31 37 41 43 47 53 59 61 67 71 73 79 83 89 97 "
     ]
    }
   ],
   "source": [
    "for Number in range (1, 101):\n",
    "    count=0\n",
    "    for i in range(2,Number//2+1):\n",
    "        if Number%i==0:\n",
    "            count=count+1\n",
    "            \n",
    "            break\n",
    "    if(count==0 and Number!=1):\n",
    "        print('%d'%Number,end=' ')\n",
    "        "
   ]
  },
  {
   "cell_type": "markdown",
   "id": "3dbc9729",
   "metadata": {},
   "source": [
    "e.\tAccept two related numeric data series and print mean and variance of each series, covariance and correlation between them.     "
   ]
  },
  {
   "cell_type": "code",
   "execution_count": 72,
   "id": "5db16cc7",
   "metadata": {},
   "outputs": [
    {
     "name": "stdout",
     "output_type": "stream",
     "text": [
      "enter a size of list:3\n",
      "enter n numbers:2\n",
      "enter n numbers:5\n",
      "enter n numbers:7\n",
      "['2', '5', '7']\n",
      "enter n numbers:6\n",
      "enter n numbers:1\n",
      "enter n numbers:2\n",
      "['2', '5', '7']\n",
      "4.67 is the mean of list x and 4.222 is the variance of given list\n",
      "3.0 is the mean of list y and 4.667 is the variance of given list\n",
      "-7.666666666666667 is the cov of lists -0.02 is the correlation of two list\n"
     ]
    }
   ],
   "source": [
    "n1=int(input('enter a size of list:'))\n",
    "\n",
    "x=[]\n",
    "for i in range(n1):\n",
    "    y=input('enter n numbers:')\n",
    "    x.append(y)\n",
    "print(x)\n",
    "\n",
    "y=[]\n",
    "for i in range(n1):\n",
    "    z=input('enter n numbers:')\n",
    "    y.append(z)\n",
    "print(x)\n",
    "sx=sxx=0\n",
    "t=0\n",
    "for i in x:\n",
    "    sx=sx+int(i)\n",
    "    sxx=sxx+int(i)*int(i)\n",
    "    t=t+1\n",
    "mx=sx/t\n",
    "var1=sxx/t-mx**2\n",
    "print(round(mx,2),'is the mean of list x and',round(var1,3),'is the variance of given list')\n",
    "sy=syy=0\n",
    "t=0\n",
    "for i in y:\n",
    "    sy=sy+int(i)\n",
    "    syy=syy+int(i)*int(i)\n",
    "    t=t+1\n",
    "my=sy/t\n",
    "var2=syy/t-my**2\n",
    "print(round(my,2),'is the mean of list y and',round(var2,3),'is the variance of given list')\n",
    "\n",
    "sxy=0\n",
    "for i in range(1,n2):\n",
    "    sxy=sxy+int(x[i])*int(y[i])\n",
    "cov=sxy/t-mx*my\n",
    "cor=cov/(var1*var2)**2\n",
    "print(round(cov,3),'is the cov of lists',round(cor,3),'is the correlation of two list')"
   ]
  },
  {
   "cell_type": "markdown",
   "id": "f1071715",
   "metadata": {},
   "source": [
    "f.\tTo generate random number from U(0,1) distribution using Congruential Random Number Generator"
   ]
  },
  {
   "cell_type": "code",
   "execution_count": 84,
   "id": "8c07fa4e",
   "metadata": {},
   "outputs": [
    {
     "name": "stdout",
     "output_type": "stream",
     "text": [
      "14 7 0 9 2 11 4 13 6 15 8 1 10 3 12 5 "
     ]
    }
   ],
   "source": [
    "m=16\n",
    "a=9\n",
    "b=5\n",
    "n=10\n",
    "y=[]\n",
    "i=1\n",
    "while i<=m:\n",
    "    y=(a*i+b)%m\n",
    "    i=i+1\n",
    "    print(y,end=' ')\n"
   ]
  },
  {
   "cell_type": "markdown",
   "id": "cf2f6ee0",
   "metadata": {},
   "source": [
    "g.\tTo generate random number from Binomial, Poisson, Hypergeometric, Negative Binomial, Multinomial distributions using uniform random numbers"
   ]
  },
  {
   "cell_type": "code",
   "execution_count": 145,
   "id": "6bcc4b4f",
   "metadata": {},
   "outputs": [
    {
     "name": "stdout",
     "output_type": "stream",
     "text": [
      "[5. 4. 4. 5. 4. 4. 5. 5. 5. 5.]\n"
     ]
    }
   ],
   "source": [
    "#Binomial\n",
    "\n",
    "import numpy as np\n",
    "p=0.9\n",
    "n=5\n",
    "m=10\n",
    "x=np.zeros(m)\n",
    "for i in range(n):\n",
    "    for j in range(m):\n",
    "        u=np.random.rand(1)\n",
    "        if u<=p:\n",
    "            x[j]=x[j]+1\n",
    "print(x)        \n"
   ]
  },
  {
   "cell_type": "code",
   "execution_count": 135,
   "id": "ef44c617",
   "metadata": {},
   "outputs": [
    {
     "name": "stdout",
     "output_type": "stream",
     "text": [
      "[3. 2. 3. 1. 0. 6. 2. 2. 2. 2.]\n"
     ]
    }
   ],
   "source": [
    "#poisson\n",
    "l=3\n",
    "n=10\n",
    "x=np.zeros(n)\n",
    "y=0\n",
    "for i in range(n):\n",
    "    p=1\n",
    "    y=-1\n",
    "    while p>np.exp(-l):\n",
    "        u=np.random.rand(1)\n",
    "        p=p*u\n",
    "        y=y+1\n",
    "    x[i]=y\n",
    "print(x)"
   ]
  },
  {
   "cell_type": "code",
   "execution_count": 178,
   "id": "3ee98c9b",
   "metadata": {},
   "outputs": [
    {
     "ename": "IndexError",
     "evalue": "index 10 is out of bounds for axis 0 with size 10",
     "output_type": "error",
     "traceback": [
      "\u001b[1;31m---------------------------------------------------------------------------\u001b[0m",
      "\u001b[1;31mIndexError\u001b[0m                                Traceback (most recent call last)",
      "\u001b[1;32m~\\AppData\\Local\\Temp\\ipykernel_9224\\207157190.py\u001b[0m in \u001b[0;36m<module>\u001b[1;34m\u001b[0m\n\u001b[0;32m     12\u001b[0m         \u001b[0mu\u001b[0m\u001b[1;33m=\u001b[0m\u001b[0mnp\u001b[0m\u001b[1;33m.\u001b[0m\u001b[0mrandom\u001b[0m\u001b[1;33m.\u001b[0m\u001b[0mrand\u001b[0m\u001b[1;33m(\u001b[0m\u001b[1;36m1\u001b[0m\u001b[1;33m)\u001b[0m\u001b[1;33m\u001b[0m\u001b[1;33m\u001b[0m\u001b[0m\n\u001b[0;32m     13\u001b[0m         \u001b[1;32mwhile\u001b[0m \u001b[0mu\u001b[0m\u001b[1;33m<=\u001b[0m\u001b[1;33m(\u001b[0m\u001b[1;33m(\u001b[0m\u001b[0mM\u001b[0m\u001b[1;33m-\u001b[0m\u001b[0my\u001b[0m\u001b[1;33m)\u001b[0m\u001b[1;33m/\u001b[0m\u001b[1;33m(\u001b[0m\u001b[0mN\u001b[0m\u001b[1;33m-\u001b[0m\u001b[0mi\u001b[0m\u001b[1;33m+\u001b[0m\u001b[1;36m1\u001b[0m\u001b[1;33m)\u001b[0m\u001b[1;33m)\u001b[0m\u001b[1;33m:\u001b[0m\u001b[1;33m\u001b[0m\u001b[1;33m\u001b[0m\u001b[0m\n\u001b[1;32m---> 14\u001b[1;33m             \u001b[0mx\u001b[0m\u001b[1;33m[\u001b[0m\u001b[0mi\u001b[0m\u001b[1;33m]\u001b[0m\u001b[1;33m=\u001b[0m\u001b[0mx\u001b[0m\u001b[1;33m[\u001b[0m\u001b[0mi\u001b[0m\u001b[1;33m]\u001b[0m\u001b[1;33m+\u001b[0m\u001b[1;36m1\u001b[0m\u001b[1;33m\u001b[0m\u001b[1;33m\u001b[0m\u001b[0m\n\u001b[0m\u001b[0;32m     15\u001b[0m             \u001b[0mi\u001b[0m\u001b[1;33m=\u001b[0m\u001b[0mi\u001b[0m\u001b[1;33m+\u001b[0m\u001b[1;36m1\u001b[0m\u001b[1;33m\u001b[0m\u001b[1;33m\u001b[0m\u001b[0m\n\u001b[0;32m     16\u001b[0m \u001b[0mprint\u001b[0m\u001b[1;33m(\u001b[0m\u001b[0mx\u001b[0m\u001b[1;33m)\u001b[0m\u001b[1;33m\u001b[0m\u001b[1;33m\u001b[0m\u001b[0m\n",
      "\u001b[1;31mIndexError\u001b[0m: index 10 is out of bounds for axis 0 with size 10"
     ]
    }
   ],
   "source": [
    "#hypergeometric\n",
    "m=10\n",
    "M=8\n",
    "N=30\n",
    "n=10\n",
    "\n",
    "x=np.zeros(n)\n",
    "y=0\n",
    "i=1\n",
    "for j in range(m):\n",
    "    for i in range(n):\n",
    "        u=np.random.rand(1)\n",
    "        while u<=((M-y)/(N-i+1)):\n",
    "            x[i]=x[i]+1\n",
    "            i=i+1\n",
    "print(x)\n",
    "        "
   ]
  },
  {
   "cell_type": "code",
   "execution_count": 166,
   "id": "8f4034ae",
   "metadata": {},
   "outputs": [
    {
     "name": "stdout",
     "output_type": "stream",
     "text": [
      "[1. 1. 2. 4. 3. 1. 1. 2. 3. 3.]\n"
     ]
    }
   ],
   "source": [
    "import math as m\n",
    "\n",
    "p=0.6\n",
    "n=10\n",
    "r=2\n",
    "x=np.zeros(n)\n",
    "for j in range(n):\n",
    "    for i in range(r):\n",
    "        u=np.random.rand(1)\n",
    "        x[j]=m.floor(np.log(u)/np.log(1-p))\n",
    "        x[j]=x[j]+1\n",
    "        i=i+1\n",
    "print(x)"
   ]
  },
  {
   "cell_type": "code",
   "execution_count": null,
   "id": "e6a97e51",
   "metadata": {},
   "outputs": [],
   "source": []
  },
  {
   "cell_type": "code",
   "execution_count": null,
   "id": "3fb7a728",
   "metadata": {},
   "outputs": [],
   "source": []
  },
  {
   "cell_type": "code",
   "execution_count": null,
   "id": "b633dcac",
   "metadata": {},
   "outputs": [],
   "source": []
  }
 ],
 "metadata": {
  "kernelspec": {
   "display_name": "Python 3 (ipykernel)",
   "language": "python",
   "name": "python3"
  },
  "language_info": {
   "codemirror_mode": {
    "name": "ipython",
    "version": 3
   },
   "file_extension": ".py",
   "mimetype": "text/x-python",
   "name": "python",
   "nbconvert_exporter": "python",
   "pygments_lexer": "ipython3",
   "version": "3.9.13"
  }
 },
 "nbformat": 4,
 "nbformat_minor": 5
}
